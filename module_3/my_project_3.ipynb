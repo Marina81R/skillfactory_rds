{
 "cells": [
  {
   "cell_type": "markdown",
   "id": "confirmed-edward",
   "metadata": {},
   "source": [
    "![image.png](https://encrypted-tbn0.gstatic.com/images?q=tbn:ANd9GcQd3Hh1G38iYDWP1wA6IyIdHIRskk8QaXhoI09YbDc3FgIBSaBL3fUL02BncHxJuVPazQ&usqp=CAU)\n",
    "\n",
    "\n",
    "Специализация: Data Science   \n",
    "Группа: DST-29   \n",
    "Юнит 3. Проект: «О вкусной и здоровой пище»   \n",
    "Выполнила: Марина Розова   \n",
    "\n",
    "**Задание:** Необходимо построить модель которая предсказывает рейтинг ресторана TripAdvisor\n",
    "\n",
    "\n"
   ]
  },
  {
   "cell_type": "markdown",
   "id": "governing-period",
   "metadata": {},
   "source": [
    "Первоначальная версия датасета состоит из десяти столбцов, содержащих следующую информацию:\n",
    "\n",
    "- Restaurant_id — идентификационный номер ресторана / сети ресторанов;\n",
    "- City — город, в котором находится ресторан;\n",
    "- Cuisine Style — кухня или кухни, к которым можно отнести блюда, предлагаемые в ресторане;\n",
    "- Ranking — место, которое занимает данный ресторан среди всех ресторанов своего города;\n",
    "- Rating — рейтинг ресторана по данным TripAdvisor (именно это значение должна будет предсказывать модель);\n",
    "- Price Range — диапазон цен в ресторане;\n",
    "- Number of Reviews — количество отзывов о ресторане;\n",
    "- Reviews — данные о двух отзывах, которые отображаются на сайте ресторана;\n",
    "- URL_TA — URL страницы ресторана на TripAdvosor;\n",
    "- ID_TA — идентификатор ресторана в базе данных TripAdvisor."
   ]
  },
  {
   "cell_type": "markdown",
   "id": "lesbian-slope",
   "metadata": {},
   "source": [
    "# 1 Загрузка библиотек и датасета"
   ]
  },
  {
   "cell_type": "code",
   "execution_count": 110,
   "id": "primary-morning",
   "metadata": {},
   "outputs": [],
   "source": [
    "import pandas as pd\n",
    "import numpy as np\n",
    "import matplotlib.pyplot as plt\n",
    "import seaborn as sns\n",
    "from itertools import combinations\n",
    "from scipy.stats import ttest_ind\n",
    "from collections import Counter\n",
    "import pandas_profiling\n",
    "import re\n",
    "from datetime import datetime, timedelta\n",
    "import pandas_profiling\n",
    "import matplotlib.pyplot as plt\n",
    "import seaborn as sns"
   ]
  },
  {
   "cell_type": "code",
   "execution_count": 111,
   "id": "pressed-roommate",
   "metadata": {},
   "outputs": [],
   "source": [
    "pd.set_option('display.max_rows', 50)\n",
    "pd.set_option('display.max_columns', 50)\n",
    "import warnings; warnings.simplefilter('ignore')\n",
    "\n",
    "# зафиксируем random_seed\n",
    "RANDOM_SEED = 42\n",
    "\n",
    "# зафиксируем версию пакетов\n",
    "!pip freeze > requirements.txt"
   ]
  },
  {
   "cell_type": "code",
   "execution_count": 147,
   "id": "living-binding",
   "metadata": {},
   "outputs": [],
   "source": [
    "df = pd.read_csv('main_task.csv')\n"
   ]
  },
  {
   "cell_type": "markdown",
   "id": "patient-projector",
   "metadata": {},
   "source": [
    "## Определение функций"
   ]
  },
  {
   "cell_type": "code",
   "execution_count": 148,
   "id": "fresh-covering",
   "metadata": {},
   "outputs": [],
   "source": [
    "# определение количества пропусков в датасете\n",
    "def missing_values_table(df):\n",
    "    # Всего отсутствующих значений\n",
    "    mis_val = df.isnull().sum()\n",
    "\n",
    "    # Процент пропущенных значений\n",
    "    mis_val_percent = 100 * df.isnull().sum() / len(df)\n",
    "\n",
    "    # Составим таблицу с результатами\n",
    "    mis_val_table = pd.concat([mis_val, mis_val_percent], axis=1)\n",
    "\n",
    "    # Переименуем столбцы\n",
    "    mis_val_table_ren_columns = mis_val_table.rename(\n",
    "        columns={0: 'Пропуски', 1: '% пропусков'})\n",
    "\n",
    "   # Отсортируем таблицу по проценту пропущенных по убыванию\n",
    "    mis_val_table_ren_columns = mis_val_table_ren_columns[\n",
    "        mis_val_table_ren_columns.iloc[:, 1] != 0].sort_values(\n",
    "        '% пропусков', ascending=False).round(1)\n",
    "\n",
    "    # Выведем таблицу на экран\n",
    "    print(\"В нашем датафрейме \" + str(df.shape[1]) + \" столбцов.\\n\"\n",
    "          \"В \" + str(mis_val_table_ren_columns.shape[0]) +\n",
    "          \" колонках есть пропущенные данные.\")\n",
    "\n",
    "    # Вернуть фрейм данных с отсутствующей информацией\n",
    "    return mis_val_table_ren_columns\n",
    "\n",
    "# замена значений в столбце цены\n",
    "\n",
    "\n",
    "def price_ord(row):\n",
    "    price_dict = {'$': 1, '$$ - $$$': 2, '$$$$': 3}\n",
    "    row = row.replace(to_replace=price_dict)\n",
    "    return row\n",
    "\n",
    "\n",
    "# построение гистограмм для числовых данных\n",
    "def numerical(col):\n",
    "    ''' Построение гистограммы и вывод основных \n",
    "    статистических данных цифровых признаков \n",
    "    '''\n",
    "    display(df[col].hist(bins=100))\n",
    "    display(df[col].describe())\n",
    "\n",
    "#  вывод основных показателей для категориальных данных\n",
    "\n",
    "\n",
    "def categorical(col):\n",
    "    ''' Вывод основных статистических данных \n",
    "    категориальных признаков\n",
    "    '''\n",
    "    display(pd.DataFrame(df[col].value_counts()))\n",
    "    display(df[col].describe())\n",
    "\n",
    "#  очистка столбца с кухнями и замена NaN на Uknown\n",
    "\n",
    "\n",
    "def cuisine(name):\n",
    "    if pd.isna(name):\n",
    "        return ['Uknown']\n",
    "    name = name.strip('[]')\n",
    "    name = name.replace(\"\\'\", '')\n",
    "    name = name.split(', ')\n",
    "    return name\n",
    "\n",
    "# абсолютный рейтинг ресторана в городе\n",
    "def rest_ranking(row, summ):\n",
    "    for i in summ.keys():\n",
    "        if row['City'] == i:\n",
    "            res = row['Ranking']/rest[i]\n",
    "    return res\n",
    "\n",
    "# поиск выбросов\n",
    "def outliers_iqr(ys):\n",
    "    quartile_1, quartile_3 = np.percentile(ys, [25, 75])\n",
    "    iqr = quartile_3 - quartile_1\n",
    "    lower_bound = quartile_1 - (iqr * 1.5)\n",
    "    upper_bound = quartile_3 + (iqr * 1.5)\n",
    "    return np.where((ys > upper_bound) | (ys < lower_bound))[0]"
   ]
  },
  {
   "cell_type": "markdown",
   "id": "honey-rough",
   "metadata": {},
   "source": [
    "# 2 Очистка данных"
   ]
  },
  {
   "cell_type": "markdown",
   "id": "micro-appliance",
   "metadata": {},
   "source": [
    "Посмотрим на данные"
   ]
  },
  {
   "cell_type": "code",
   "execution_count": 149,
   "id": "constant-postcard",
   "metadata": {},
   "outputs": [
    {
     "data": {
      "text/html": [
       "<div>\n",
       "<style scoped>\n",
       "    .dataframe tbody tr th:only-of-type {\n",
       "        vertical-align: middle;\n",
       "    }\n",
       "\n",
       "    .dataframe tbody tr th {\n",
       "        vertical-align: top;\n",
       "    }\n",
       "\n",
       "    .dataframe thead th {\n",
       "        text-align: right;\n",
       "    }\n",
       "</style>\n",
       "<table border=\"1\" class=\"dataframe\">\n",
       "  <thead>\n",
       "    <tr style=\"text-align: right;\">\n",
       "      <th></th>\n",
       "      <th>Restaurant_id</th>\n",
       "      <th>City</th>\n",
       "      <th>Cuisine Style</th>\n",
       "      <th>Ranking</th>\n",
       "      <th>Rating</th>\n",
       "      <th>Price Range</th>\n",
       "      <th>Number of Reviews</th>\n",
       "      <th>Reviews</th>\n",
       "      <th>URL_TA</th>\n",
       "      <th>ID_TA</th>\n",
       "    </tr>\n",
       "  </thead>\n",
       "  <tbody>\n",
       "    <tr>\n",
       "      <th>0</th>\n",
       "      <td>id_5569</td>\n",
       "      <td>Paris</td>\n",
       "      <td>['European', 'French', 'International']</td>\n",
       "      <td>5570.0</td>\n",
       "      <td>3.5</td>\n",
       "      <td>$$ - $$$</td>\n",
       "      <td>194.0</td>\n",
       "      <td>[['Good food at your doorstep', 'A good hotel ...</td>\n",
       "      <td>/Restaurant_Review-g187147-d1912643-Reviews-R_...</td>\n",
       "      <td>d1912643</td>\n",
       "    </tr>\n",
       "    <tr>\n",
       "      <th>1</th>\n",
       "      <td>id_1535</td>\n",
       "      <td>Stockholm</td>\n",
       "      <td>NaN</td>\n",
       "      <td>1537.0</td>\n",
       "      <td>4.0</td>\n",
       "      <td>NaN</td>\n",
       "      <td>10.0</td>\n",
       "      <td>[['Unique cuisine', 'Delicious Nepalese food']...</td>\n",
       "      <td>/Restaurant_Review-g189852-d7992032-Reviews-Bu...</td>\n",
       "      <td>d7992032</td>\n",
       "    </tr>\n",
       "    <tr>\n",
       "      <th>2</th>\n",
       "      <td>id_352</td>\n",
       "      <td>London</td>\n",
       "      <td>['Japanese', 'Sushi', 'Asian', 'Grill', 'Veget...</td>\n",
       "      <td>353.0</td>\n",
       "      <td>4.5</td>\n",
       "      <td>$$$$</td>\n",
       "      <td>688.0</td>\n",
       "      <td>[['Catch up with friends', 'Not exceptional'],...</td>\n",
       "      <td>/Restaurant_Review-g186338-d8632781-Reviews-RO...</td>\n",
       "      <td>d8632781</td>\n",
       "    </tr>\n",
       "    <tr>\n",
       "      <th>3</th>\n",
       "      <td>id_3456</td>\n",
       "      <td>Berlin</td>\n",
       "      <td>NaN</td>\n",
       "      <td>3458.0</td>\n",
       "      <td>5.0</td>\n",
       "      <td>NaN</td>\n",
       "      <td>3.0</td>\n",
       "      <td>[[], []]</td>\n",
       "      <td>/Restaurant_Review-g187323-d1358776-Reviews-Es...</td>\n",
       "      <td>d1358776</td>\n",
       "    </tr>\n",
       "    <tr>\n",
       "      <th>4</th>\n",
       "      <td>id_615</td>\n",
       "      <td>Munich</td>\n",
       "      <td>['German', 'Central European', 'Vegetarian Fri...</td>\n",
       "      <td>621.0</td>\n",
       "      <td>4.0</td>\n",
       "      <td>$$ - $$$</td>\n",
       "      <td>84.0</td>\n",
       "      <td>[['Best place to try a Bavarian food', 'Nice b...</td>\n",
       "      <td>/Restaurant_Review-g187309-d6864963-Reviews-Au...</td>\n",
       "      <td>d6864963</td>\n",
       "    </tr>\n",
       "  </tbody>\n",
       "</table>\n",
       "</div>"
      ],
      "text/plain": [
       "  Restaurant_id       City                                      Cuisine Style  \\\n",
       "0       id_5569      Paris            ['European', 'French', 'International']   \n",
       "1       id_1535  Stockholm                                                NaN   \n",
       "2        id_352     London  ['Japanese', 'Sushi', 'Asian', 'Grill', 'Veget...   \n",
       "3       id_3456     Berlin                                                NaN   \n",
       "4        id_615     Munich  ['German', 'Central European', 'Vegetarian Fri...   \n",
       "\n",
       "   Ranking  Rating Price Range  Number of Reviews  \\\n",
       "0   5570.0     3.5    $$ - $$$              194.0   \n",
       "1   1537.0     4.0         NaN               10.0   \n",
       "2    353.0     4.5        $$$$              688.0   \n",
       "3   3458.0     5.0         NaN                3.0   \n",
       "4    621.0     4.0    $$ - $$$               84.0   \n",
       "\n",
       "                                             Reviews  \\\n",
       "0  [['Good food at your doorstep', 'A good hotel ...   \n",
       "1  [['Unique cuisine', 'Delicious Nepalese food']...   \n",
       "2  [['Catch up with friends', 'Not exceptional'],...   \n",
       "3                                           [[], []]   \n",
       "4  [['Best place to try a Bavarian food', 'Nice b...   \n",
       "\n",
       "                                              URL_TA     ID_TA  \n",
       "0  /Restaurant_Review-g187147-d1912643-Reviews-R_...  d1912643  \n",
       "1  /Restaurant_Review-g189852-d7992032-Reviews-Bu...  d7992032  \n",
       "2  /Restaurant_Review-g186338-d8632781-Reviews-RO...  d8632781  \n",
       "3  /Restaurant_Review-g187323-d1358776-Reviews-Es...  d1358776  \n",
       "4  /Restaurant_Review-g187309-d6864963-Reviews-Au...  d6864963  "
      ]
     },
     "metadata": {},
     "output_type": "display_data"
    },
    {
     "name": "stdout",
     "output_type": "stream",
     "text": [
      "<class 'pandas.core.frame.DataFrame'>\n",
      "RangeIndex: 40000 entries, 0 to 39999\n",
      "Data columns (total 10 columns):\n",
      " #   Column             Non-Null Count  Dtype  \n",
      "---  ------             --------------  -----  \n",
      " 0   Restaurant_id      40000 non-null  object \n",
      " 1   City               40000 non-null  object \n",
      " 2   Cuisine Style      30717 non-null  object \n",
      " 3   Ranking            40000 non-null  float64\n",
      " 4   Rating             40000 non-null  float64\n",
      " 5   Price Range        26114 non-null  object \n",
      " 6   Number of Reviews  37457 non-null  float64\n",
      " 7   Reviews            40000 non-null  object \n",
      " 8   URL_TA             40000 non-null  object \n",
      " 9   ID_TA              40000 non-null  object \n",
      "dtypes: float64(3), object(7)\n",
      "memory usage: 3.1+ MB\n"
     ]
    },
    {
     "data": {
      "text/plain": [
       "Index(['Restaurant_id', 'City', 'Cuisine Style', 'Ranking', 'Rating',\n",
       "       'Price Range', 'Number of Reviews', 'Reviews', 'URL_TA', 'ID_TA'],\n",
       "      dtype='object')"
      ]
     },
     "execution_count": 149,
     "metadata": {},
     "output_type": "execute_result"
    }
   ],
   "source": [
    "display(df.head(5))\n",
    "df.info() \n",
    "df.columns"
   ]
  },
  {
   "cell_type": "markdown",
   "id": "special-device",
   "metadata": {},
   "source": [
    "**Отберем числовые колонки**"
   ]
  },
  {
   "cell_type": "code",
   "execution_count": 150,
   "id": "practical-wallet",
   "metadata": {},
   "outputs": [
    {
     "name": "stdout",
     "output_type": "stream",
     "text": [
      "['Ranking' 'Rating' 'Number of Reviews']\n"
     ]
    }
   ],
   "source": [
    "df_numeric = df.select_dtypes(include=[np.number])\n",
    "numeric_cols = df_numeric.columns.values\n",
    "print(numeric_cols)"
   ]
  },
  {
   "cell_type": "markdown",
   "id": "senior-gathering",
   "metadata": {},
   "source": [
    "**Отберем нечисловые колонки**"
   ]
  },
  {
   "cell_type": "code",
   "execution_count": 151,
   "id": "tired-stupid",
   "metadata": {},
   "outputs": [
    {
     "name": "stdout",
     "output_type": "stream",
     "text": [
      "['Restaurant_id' 'City' 'Cuisine Style' 'Price Range' 'Reviews' 'URL_TA'\n",
      " 'ID_TA']\n"
     ]
    }
   ],
   "source": [
    "df_non_numeric = df.select_dtypes(exclude=[np.number])\n",
    "non_numeric_cols = df_non_numeric.columns.values\n",
    "print(non_numeric_cols)"
   ]
  },
  {
   "cell_type": "markdown",
   "id": "congressional-teddy",
   "metadata": {},
   "source": [
    "Посмотрим количество пропусков:"
   ]
  },
  {
   "cell_type": "code",
   "execution_count": 152,
   "id": "widespread-supervision",
   "metadata": {},
   "outputs": [
    {
     "name": "stdout",
     "output_type": "stream",
     "text": [
      "В нашем датафрейме 10 столбцов.\n",
      "В 3 колонках есть пропущенные данные.\n"
     ]
    },
    {
     "data": {
      "text/html": [
       "<div>\n",
       "<style scoped>\n",
       "    .dataframe tbody tr th:only-of-type {\n",
       "        vertical-align: middle;\n",
       "    }\n",
       "\n",
       "    .dataframe tbody tr th {\n",
       "        vertical-align: top;\n",
       "    }\n",
       "\n",
       "    .dataframe thead th {\n",
       "        text-align: right;\n",
       "    }\n",
       "</style>\n",
       "<table border=\"1\" class=\"dataframe\">\n",
       "  <thead>\n",
       "    <tr style=\"text-align: right;\">\n",
       "      <th></th>\n",
       "      <th>Пропуски</th>\n",
       "      <th>% пропусков</th>\n",
       "    </tr>\n",
       "  </thead>\n",
       "  <tbody>\n",
       "    <tr>\n",
       "      <th>Price Range</th>\n",
       "      <td>13886</td>\n",
       "      <td>34.7</td>\n",
       "    </tr>\n",
       "    <tr>\n",
       "      <th>Cuisine Style</th>\n",
       "      <td>9283</td>\n",
       "      <td>23.2</td>\n",
       "    </tr>\n",
       "    <tr>\n",
       "      <th>Number of Reviews</th>\n",
       "      <td>2543</td>\n",
       "      <td>6.4</td>\n",
       "    </tr>\n",
       "  </tbody>\n",
       "</table>\n",
       "</div>"
      ],
      "text/plain": [
       "                   Пропуски  % пропусков\n",
       "Price Range           13886         34.7\n",
       "Cuisine Style          9283         23.2\n",
       "Number of Reviews      2543          6.4"
      ]
     },
     "execution_count": 152,
     "metadata": {},
     "output_type": "execute_result"
    }
   ],
   "source": [
    "missing_values_table(df)"
   ]
  },
  {
   "cell_type": "markdown",
   "id": "specialized-stevens",
   "metadata": {},
   "source": [
    "Рассмотрим для начала числовые колонки.  \n",
    "Мы выяснили, что в двух из них есть пропущенные знаяения."
   ]
  },
  {
   "cell_type": "markdown",
   "id": "exciting-project",
   "metadata": {},
   "source": [
    "**Price Range**"
   ]
  },
  {
   "cell_type": "markdown",
   "id": "outstanding-sword",
   "metadata": {},
   "source": [
    "Посмотрим на распределение в колонке"
   ]
  },
  {
   "cell_type": "code",
   "execution_count": 153,
   "id": "consistent-preservation",
   "metadata": {},
   "outputs": [
    {
     "name": "stdout",
     "output_type": "stream",
     "text": [
      "['$$ - $$$' nan '$$$$' '$']\n"
     ]
    }
   ],
   "source": [
    "df_price = df['Price Range'].unique()\n",
    "print(df_price)"
   ]
  },
  {
   "cell_type": "markdown",
   "id": "surrounded-sharp",
   "metadata": {},
   "source": [
    "Заменим пропуски с вяроятностью появления значения цены."
   ]
  },
  {
   "cell_type": "code",
   "execution_count": 154,
   "id": "alternate-filing",
   "metadata": {},
   "outputs": [],
   "source": [
    "mask = df['Price Range'].isna()\n",
    "# считаем статистику распределения значений\n",
    "p = df['Price Range'].value_counts()/len(df['Price Range'].dropna())\n",
    "# заполняем пропуски с вероятностью p\n",
    "df.loc[mask, 'Price Range'] = np.random.choice(\n",
    "    p.index.to_list(), size=mask.sum(), p=p.to_list())"
   ]
  },
  {
   "cell_type": "markdown",
   "id": "fancy-lighting",
   "metadata": {},
   "source": [
    "Создадим на основе значений столбца ординальный признак."
   ]
  },
  {
   "cell_type": "code",
   "execution_count": 155,
   "id": "binary-economics",
   "metadata": {},
   "outputs": [],
   "source": [
    "df['Price_ordinal'] = price_ord(df['Price Range'])                         "
   ]
  },
  {
   "cell_type": "code",
   "execution_count": 156,
   "id": "coated-butterfly",
   "metadata": {},
   "outputs": [
    {
     "data": {
      "text/plain": [
       "<AxesSubplot:>"
      ]
     },
     "metadata": {},
     "output_type": "display_data"
    },
    {
     "data": {
      "text/plain": [
       "count    40000.000000\n",
       "mean         1.814225\n",
       "std          0.509823\n",
       "min          1.000000\n",
       "25%          2.000000\n",
       "50%          2.000000\n",
       "75%          2.000000\n",
       "max          3.000000\n",
       "Name: Price_ordinal, dtype: float64"
      ]
     },
     "metadata": {},
     "output_type": "display_data"
    },
    {
     "data": {
      "image/png": "[encoded data removed]",
      "text/plain": [
       "<Figure size 432x288 with 1 Axes>"
      ]
     },
     "metadata": {
      "needs_background": "light"
     },
     "output_type": "display_data"
    }
   ],
   "source": [
    "numerical('Price_ordinal')"
   ]
  },
  {
   "cell_type": "markdown",
   "id": "earlier-ballot",
   "metadata": {},
   "source": [
    "Видно, что большинство ресторанов после замены пропусков, имеют среднюю ценовую категорию."
   ]
  },
  {
   "cell_type": "markdown",
   "id": "labeled-charlotte",
   "metadata": {},
   "source": [
    "**Number of Reviews**"
   ]
  },
  {
   "cell_type": "markdown",
   "id": "technological-budapest",
   "metadata": {},
   "source": [
    "В данном столбце есть пропуски, заменим их на среднее значение по городу"
   ]
  },
  {
   "cell_type": "code",
   "execution_count": 157,
   "id": "horizontal-radiation",
   "metadata": {},
   "outputs": [],
   "source": [
    "df['Number of Reviews'] = df.groupby(['City']).transform(\n",
    "    lambda x: x.fillna(x.mean()))['Number of Reviews']"
   ]
  },
  {
   "cell_type": "markdown",
   "id": "derived-reduction",
   "metadata": {},
   "source": [
    "И посмотрим на распределение"
   ]
  },
  {
   "cell_type": "code",
   "execution_count": 158,
   "id": "blond-genetics",
   "metadata": {},
   "outputs": [
    {
     "data": {
      "text/plain": [
       "<AxesSubplot:>"
      ]
     },
     "metadata": {},
     "output_type": "display_data"
    },
    {
     "data": {
      "text/plain": [
       "count    40000.000000\n",
       "mean       124.141837\n",
       "std        286.333499\n",
       "min          2.000000\n",
       "25%         10.000000\n",
       "50%         38.000000\n",
       "75%        124.028861\n",
       "max       9660.000000\n",
       "Name: Number of Reviews, dtype: float64"
      ]
     },
     "metadata": {},
     "output_type": "display_data"
    },
    {
     "data": {
      "image/png": "[encoded data removed]",
      "text/plain": [
       "<Figure size 432x288 with 1 Axes>"
      ]
     },
     "metadata": {
      "needs_background": "light"
     },
     "output_type": "display_data"
    }
   ],
   "source": [
    "numerical('Number of Reviews')"
   ]
  },
  {
   "cell_type": "markdown",
   "id": "cellular-relationship",
   "metadata": {},
   "source": [
    "Теперь посмотрим на столбцы с номинальными данными."
   ]
  },
  {
   "cell_type": "markdown",
   "id": "surface-radiation",
   "metadata": {},
   "source": [
    "**Restaurant_id**"
   ]
  },
  {
   "cell_type": "markdown",
   "id": "explicit-patrol",
   "metadata": {},
   "source": [
    "В данном признаке находится идентификатор ресторана, при этом в датасете представлены сетевые рестораны."
   ]
  },
  {
   "cell_type": "code",
   "execution_count": 159,
   "id": "foreign-ordinance",
   "metadata": {},
   "outputs": [
    {
     "data": {
      "text/html": [
       "<div>\n",
       "<style scoped>\n",
       "    .dataframe tbody tr th:only-of-type {\n",
       "        vertical-align: middle;\n",
       "    }\n",
       "\n",
       "    .dataframe tbody tr th {\n",
       "        vertical-align: top;\n",
       "    }\n",
       "\n",
       "    .dataframe thead th {\n",
       "        text-align: right;\n",
       "    }\n",
       "</style>\n",
       "<table border=\"1\" class=\"dataframe\">\n",
       "  <thead>\n",
       "    <tr style=\"text-align: right;\">\n",
       "      <th></th>\n",
       "      <th>Restaurant_id</th>\n",
       "    </tr>\n",
       "  </thead>\n",
       "  <tbody>\n",
       "    <tr>\n",
       "      <th>id_436</th>\n",
       "      <td>18</td>\n",
       "    </tr>\n",
       "    <tr>\n",
       "      <th>id_227</th>\n",
       "      <td>18</td>\n",
       "    </tr>\n",
       "    <tr>\n",
       "      <th>id_633</th>\n",
       "      <td>18</td>\n",
       "    </tr>\n",
       "    <tr>\n",
       "      <th>id_871</th>\n",
       "      <td>18</td>\n",
       "    </tr>\n",
       "    <tr>\n",
       "      <th>id_344</th>\n",
       "      <td>17</td>\n",
       "    </tr>\n",
       "    <tr>\n",
       "      <th>...</th>\n",
       "      <td>...</td>\n",
       "    </tr>\n",
       "    <tr>\n",
       "      <th>id_8560</th>\n",
       "      <td>1</td>\n",
       "    </tr>\n",
       "    <tr>\n",
       "      <th>id_14046</th>\n",
       "      <td>1</td>\n",
       "    </tr>\n",
       "    <tr>\n",
       "      <th>id_12948</th>\n",
       "      <td>1</td>\n",
       "    </tr>\n",
       "    <tr>\n",
       "      <th>id_8709</th>\n",
       "      <td>1</td>\n",
       "    </tr>\n",
       "    <tr>\n",
       "      <th>id_12354</th>\n",
       "      <td>1</td>\n",
       "    </tr>\n",
       "  </tbody>\n",
       "</table>\n",
       "<p>11909 rows × 1 columns</p>\n",
       "</div>"
      ],
      "text/plain": [
       "          Restaurant_id\n",
       "id_436               18\n",
       "id_227               18\n",
       "id_633               18\n",
       "id_871               18\n",
       "id_344               17\n",
       "...                 ...\n",
       "id_8560               1\n",
       "id_14046              1\n",
       "id_12948              1\n",
       "id_8709               1\n",
       "id_12354              1\n",
       "\n",
       "[11909 rows x 1 columns]"
      ]
     },
     "metadata": {},
     "output_type": "display_data"
    },
    {
     "data": {
      "text/plain": [
       "count      40000\n",
       "unique     11909\n",
       "top       id_436\n",
       "freq          18\n",
       "Name: Restaurant_id, dtype: object"
      ]
     },
     "metadata": {},
     "output_type": "display_data"
    }
   ],
   "source": [
    "categorical('Restaurant_id')"
   ]
  },
  {
   "cell_type": "markdown",
   "id": "billion-singer",
   "metadata": {},
   "source": [
    "На основе этих данных можем создать новый признак: 1 - сетевой ресторан, 0 - нет."
   ]
  },
  {
   "cell_type": "code",
   "execution_count": 160,
   "id": "automatic-smell",
   "metadata": {},
   "outputs": [],
   "source": [
    "# создадим список ресторанов, которые относятся к сетевым\n",
    "rest_network = df['Restaurant_id'].value_counts().loc[lambda x: x > 1].index\n",
    "\n",
    "# создадим новый признак\n",
    "df['Restaurant_network'] = df['Restaurant_id'].apply(\n",
    "    lambda x: 1 if x in rest_network else 0)"
   ]
  },
  {
   "cell_type": "code",
   "execution_count": 161,
   "id": "meaningful-montreal",
   "metadata": {},
   "outputs": [
    {
     "data": {
      "text/plain": [
       "<AxesSubplot:>"
      ]
     },
     "metadata": {},
     "output_type": "display_data"
    },
    {
     "data": {
      "text/plain": [
       "count    40000.000000\n",
       "mean         0.882375\n",
       "std          0.322168\n",
       "min          0.000000\n",
       "25%          1.000000\n",
       "50%          1.000000\n",
       "75%          1.000000\n",
       "max          1.000000\n",
       "Name: Restaurant_network, dtype: float64"
      ]
     },
     "metadata": {},
     "output_type": "display_data"
    },
    {
     "data": {
      "image/png": "[encoded data removed]",
      "text/plain": [
       "<Figure size 432x288 with 1 Axes>"
      ]
     },
     "metadata": {
      "needs_background": "light"
     },
     "output_type": "display_data"
    }
   ],
   "source": [
    "numerical('Restaurant_network')"
   ]
  },
  {
   "cell_type": "markdown",
   "id": "sunrise-qatar",
   "metadata": {},
   "source": [
    "**Cuisine Style**"
   ]
  },
  {
   "cell_type": "code",
   "execution_count": 162,
   "id": "apparent-economy",
   "metadata": {},
   "outputs": [
    {
     "data": {
      "text/plain": [
       "125"
      ]
     },
     "execution_count": 162,
     "metadata": {},
     "output_type": "execute_result"
    }
   ],
   "source": [
    "# Найдем общее количество типов кухни без учета значения Uknown\n",
    "df['Cuisine Style_1'] = df['Cuisine Style'].apply(cuisine)\n",
    "\n",
    "cuisines_all = []\n",
    "for data in df['Cuisine Style_1']:\n",
    "    for cuisines in data:\n",
    "        cuisines_all.append(cuisines)\n",
    "\n",
    "cuisines = set()\n",
    "for cuisin in cuisines_all:\n",
    "    if cuisin != 'Uknown':\n",
    "        cuisines.add(cuisin)\n",
    "len(cuisines)"
   ]
  },
  {
   "cell_type": "code",
   "execution_count": 163,
   "id": "connected-communist",
   "metadata": {},
   "outputs": [
    {
     "data": {
      "text/plain": [
       "Vegetarian Friendly    11189\n",
       "European               10060\n",
       "Mediterranean           6277\n",
       "Italian                 5964\n",
       "Vegan Options           4486\n",
       "                       ...  \n",
       "Yunnan                     1\n",
       "Latvian                    1\n",
       "Salvadoran                 1\n",
       "Xinjiang                   1\n",
       "Burmese                    1\n",
       "Name: num, Length: 125, dtype: int64"
      ]
     },
     "execution_count": 163,
     "metadata": {},
     "output_type": "execute_result"
    }
   ],
   "source": [
    "# Посмотрим на самые популярные кухни\n",
    "cuisines_num = {}\n",
    "for item in cuisines:\n",
    "    cuisines_num[item] = 0\n",
    "for cuisin in cuisines_all:\n",
    "    if cuisin != 'Uknown':\n",
    "        cuisines_num[cuisin] += 1\n",
    "\n",
    "df_cuisines_num = pd.DataFrame.from_dict(cuisines_num,\n",
    "                                         orient='index', columns=['num'])\n",
    "df_cuisines_num.num.sort_values(ascending=False)"
   ]
  },
  {
   "cell_type": "markdown",
   "id": "communist-textbook",
   "metadata": {},
   "source": [
    "Добавим столбец, в котором будет хранится информация о количестве кухонь, представленных в ресторане "
   ]
  },
  {
   "cell_type": "code",
   "execution_count": 174,
   "id": "surprising-perception",
   "metadata": {},
   "outputs": [],
   "source": [
    "df['Cuisine count'] = df['Cuisine Style_1'].apply(lambda x: len(x))"
   ]
  },
  {
   "cell_type": "code",
   "execution_count": 165,
   "id": "electronic-terror",
   "metadata": {},
   "outputs": [
    {
     "data": {
      "text/plain": [
       "<AxesSubplot:>"
      ]
     },
     "metadata": {},
     "output_type": "display_data"
    },
    {
     "data": {
      "text/plain": [
       "count    40000.000000\n",
       "mean         2.622400\n",
       "std          1.817292\n",
       "min          1.000000\n",
       "25%          1.000000\n",
       "50%          2.000000\n",
       "75%          4.000000\n",
       "max         21.000000\n",
       "Name: Cuisine count, dtype: float64"
      ]
     },
     "metadata": {},
     "output_type": "display_data"
    },
    {
     "data": {
      "image/png": "[encoded data removed]",
      "text/plain": [
       "<Figure size 432x288 with 1 Axes>"
      ]
     },
     "metadata": {
      "needs_background": "light"
     },
     "output_type": "display_data"
    }
   ],
   "source": [
    "numerical('Cuisine count')"
   ]
  },
  {
   "cell_type": "markdown",
   "id": "circular-organic",
   "metadata": {},
   "source": [
    "**City**"
   ]
  },
  {
   "cell_type": "markdown",
   "id": "technical-picture",
   "metadata": {},
   "source": [
    "В данном столбце пропусков нет. Посмотрим сколько уникальных значений в столбце."
   ]
  },
  {
   "cell_type": "code",
   "execution_count": 166,
   "id": "caroline-tournament",
   "metadata": {},
   "outputs": [
    {
     "data": {
      "text/plain": [
       "array(['Paris', 'Stockholm', 'London', 'Berlin', 'Munich', 'Oporto',\n",
       "       'Milan', 'Bratislava', 'Vienna', 'Rome', 'Barcelona', 'Madrid',\n",
       "       'Dublin', 'Brussels', 'Zurich', 'Warsaw', 'Budapest', 'Copenhagen',\n",
       "       'Amsterdam', 'Lyon', 'Hamburg', 'Lisbon', 'Prague', 'Oslo',\n",
       "       'Helsinki', 'Edinburgh', 'Geneva', 'Ljubljana', 'Athens',\n",
       "       'Luxembourg', 'Krakow'], dtype=object)"
      ]
     },
     "execution_count": 166,
     "metadata": {},
     "output_type": "execute_result"
    }
   ],
   "source": [
    "df_city = df['City'].unique()\n",
    "df_city"
   ]
  },
  {
   "cell_type": "markdown",
   "id": "presidential-maintenance",
   "metadata": {},
   "source": [
    "Создадим новый признак - является ли город столицей"
   ]
  },
  {
   "cell_type": "code",
   "execution_count": 167,
   "id": "subjective-miller",
   "metadata": {},
   "outputs": [],
   "source": [
    "city_capital = ['Paris', 'Stockholm', 'London', 'Berlin', 'Bratislava',\n",
    "                'Vienna', 'Rome', 'Barcelona', 'Madrid', 'Dublin', 'Brussels',\n",
    "                'Warsaw', 'Budapest', 'Copenhagen', 'Amsterdam', 'Hamburg',\n",
    "                'Lisbon', 'Prague', 'Oslo', 'Helsinki', 'Ljubljana', 'Athens', 'Luxembourg']\n",
    "\n",
    "df['City_capital'] = df['City'].apply(lambda x: 1 if x in city_capital else 0)"
   ]
  },
  {
   "cell_type": "code",
   "execution_count": 168,
   "id": "preceding-scope",
   "metadata": {},
   "outputs": [
    {
     "data": {
      "text/html": [
       "<div>\n",
       "<style scoped>\n",
       "    .dataframe tbody tr th:only-of-type {\n",
       "        vertical-align: middle;\n",
       "    }\n",
       "\n",
       "    .dataframe tbody tr th {\n",
       "        vertical-align: top;\n",
       "    }\n",
       "\n",
       "    .dataframe thead th {\n",
       "        text-align: right;\n",
       "    }\n",
       "</style>\n",
       "<table border=\"1\" class=\"dataframe\">\n",
       "  <thead>\n",
       "    <tr style=\"text-align: right;\">\n",
       "      <th></th>\n",
       "      <th>City_capital</th>\n",
       "    </tr>\n",
       "  </thead>\n",
       "  <tbody>\n",
       "    <tr>\n",
       "      <th>1</th>\n",
       "      <td>33511</td>\n",
       "    </tr>\n",
       "    <tr>\n",
       "      <th>0</th>\n",
       "      <td>6489</td>\n",
       "    </tr>\n",
       "  </tbody>\n",
       "</table>\n",
       "</div>"
      ],
      "text/plain": [
       "   City_capital\n",
       "1         33511\n",
       "0          6489"
      ]
     },
     "metadata": {},
     "output_type": "display_data"
    },
    {
     "data": {
      "text/plain": [
       "<AxesSubplot:>"
      ]
     },
     "metadata": {},
     "output_type": "display_data"
    },
    {
     "data": {
      "text/plain": [
       "count    40000.000000\n",
       "mean         0.837775\n",
       "std          0.368662\n",
       "min          0.000000\n",
       "25%          1.000000\n",
       "50%          1.000000\n",
       "75%          1.000000\n",
       "max          1.000000\n",
       "Name: City_capital, dtype: float64"
      ]
     },
     "metadata": {},
     "output_type": "display_data"
    },
    {
     "data": {
      "image/png": "[encoded data removed]",
      "text/plain": [
       "<Figure size 432x288 with 1 Axes>"
      ]
     },
     "metadata": {
      "needs_background": "light"
     },
     "output_type": "display_data"
    }
   ],
   "source": [
    "display(pd.DataFrame(df['City_capital'].value_counts()))\n",
    "numerical('City_capital')"
   ]
  },
  {
   "cell_type": "markdown",
   "id": "contemporary-mailing",
   "metadata": {},
   "source": [
    "Добавим новый признак - рейтинг ресторана в городе, как отношение места ресторана к количеству всех ресторанов в городе"
   ]
  },
  {
   "cell_type": "code",
   "execution_count": 169,
   "id": "varied-property",
   "metadata": {},
   "outputs": [],
   "source": [
    "rest = dict(df['City'].value_counts())\n",
    "\n",
    "df['Rank_abs'] = df.apply(lambda x: rest_ranking(x, rest), axis=1)"
   ]
  },
  {
   "cell_type": "markdown",
   "id": "illegal-parts",
   "metadata": {},
   "source": [
    "**Reviews**"
   ]
  },
  {
   "cell_type": "markdown",
   "id": "commercial-visitor",
   "metadata": {},
   "source": [
    "Добавим новый признак разницу в днях между последними двумя отзывами"
   ]
  },
  {
   "cell_type": "code",
   "execution_count": 170,
   "id": "communist-simple",
   "metadata": {},
   "outputs": [],
   "source": [
    "pattern = re.compile('\\d+\\/\\d+\\/\\d+')\n",
    "df['Reviews_date'] = df['Reviews'].apply(pattern.findall)\n",
    "df['Reviews_date'] = df['Reviews_date'].apply(\n",
    "    lambda x: [pd.to_datetime(i).date() for i in x])\n",
    "\n",
    "df['First_date'] = df['Reviews_date'].apply(\n",
    "    lambda x: x[0] if len(x) == 2 else 0)\n",
    "df['Second_date'] = df['Reviews_date'].apply(\n",
    "    lambda x: x[1] if len(x) == 2 else 0)\n",
    "\n",
    "df['Time_delta'] = abs(df['Second_date']-df['First_date'])\n",
    "df['Day_delta'] = df['Time_delta'].apply(\n",
    "    lambda x: 0 if type(x) == int else x.days)\n",
    "\n",
    "outliers = outliers_iqr(list(df['Day_delta']))\n",
    "\n",
    "df['Day_delta'] = round(df['Day_delta'].replace(\n",
    "    outliers, df['Day_delta'].mean()))"
   ]
  },
  {
   "cell_type": "markdown",
   "id": "julian-industry",
   "metadata": {},
   "source": [
    "Добавим еще один признак - известность ресторана в городе - отношение отзывов к общему количеству отзывов в городе"
   ]
  },
  {
   "cell_type": "code",
   "execution_count": 171,
   "id": "rising-florence",
   "metadata": {},
   "outputs": [],
   "source": [
    "all_reviews_city = df.groupby(['City'])['Number of Reviews'].sum().to_dict()\n",
    "df['all_reviews_city'] = df['City'].map(all_reviews_city)\n",
    "df['Repute_rest'] = np.array(df['Number of Reviews']) / \\\n",
    "    np.array(df.all_reviews_city)"
   ]
  },
  {
   "cell_type": "code",
   "execution_count": 172,
   "id": "polished-roller",
   "metadata": {},
   "outputs": [
    {
     "data": {
      "text/plain": [
       "0            Paris\n",
       "1        Stockholm\n",
       "2           London\n",
       "3           Berlin\n",
       "4           Munich\n",
       "           ...    \n",
       "39995        Milan\n",
       "39996        Paris\n",
       "39997    Stockholm\n",
       "39998       Warsaw\n",
       "39999        Milan\n",
       "Name: City, Length: 40000, dtype: object"
      ]
     },
     "execution_count": 172,
     "metadata": {},
     "output_type": "execute_result"
    }
   ],
   "source": [
    "df['City']"
   ]
  },
  {
   "cell_type": "code",
   "execution_count": 173,
   "id": "imperial-wednesday",
   "metadata": {},
   "outputs": [
    {
     "data": {
      "image/png": "[encoded data removed]",
      "text/plain": [
       "<Figure size 864x864 with 2 Axes>"
      ]
     },
     "metadata": {
      "needs_background": "light"
     },
     "output_type": "display_data"
    }
   ],
   "source": [
    "sns.heatmap(df.corr(),annot = True, cmap = 'coolwarm',\n",
    "            linewidths=1, linecolor='black')\n",
    "fig = plt.gcf()\n",
    "fig.set_size_inches(12,12)"
   ]
  },
  {
   "cell_type": "markdown",
   "id": "charitable-canyon",
   "metadata": {},
   "source": [
    "Теперь преобразуем признак City в dummy-переменные."
   ]
  },
  {
   "cell_type": "code",
   "execution_count": 138,
   "id": "committed-conditions",
   "metadata": {},
   "outputs": [],
   "source": [
    "df = pd.get_dummies(df, columns=['City'])"
   ]
  },
  {
   "cell_type": "code",
   "execution_count": null,
   "id": "lyric-longer",
   "metadata": {},
   "outputs": [],
   "source": []
  },
  {
   "cell_type": "code",
   "execution_count": 139,
   "id": "external-starter",
   "metadata": {},
   "outputs": [],
   "source": [
    "df_1 = df.copy()"
   ]
  },
  {
   "cell_type": "code",
   "execution_count": 140,
   "id": "timely-jacob",
   "metadata": {},
   "outputs": [
    {
     "name": "stdout",
     "output_type": "stream",
     "text": [
      "<class 'pandas.core.frame.DataFrame'>\n",
      "RangeIndex: 40000 entries, 0 to 39999\n",
      "Data columns (total 53 columns):\n",
      " #   Column              Non-Null Count  Dtype  \n",
      "---  ------              --------------  -----  \n",
      " 0   Restaurant_id       40000 non-null  object \n",
      " 1   Cuisine Style       30717 non-null  object \n",
      " 2   Ranking             40000 non-null  float64\n",
      " 3   Rating              40000 non-null  float64\n",
      " 4   Price Range         40000 non-null  object \n",
      " 5   Number of Reviews   40000 non-null  float64\n",
      " 6   Reviews             40000 non-null  object \n",
      " 7   URL_TA              40000 non-null  object \n",
      " 8   ID_TA               40000 non-null  object \n",
      " 9   Price_ordinal       40000 non-null  int64  \n",
      " 10  Restaurant_network  40000 non-null  int64  \n",
      " 11  Cuisine Style_1     40000 non-null  object \n",
      " 12  Cuisine count       40000 non-null  int64  \n",
      " 13  City_capital        40000 non-null  int64  \n",
      " 14  Rank_abs            40000 non-null  float64\n",
      " 15  Reviews_date        40000 non-null  object \n",
      " 16  First_date          40000 non-null  object \n",
      " 17  Second_date         40000 non-null  object \n",
      " 18  Time_delta          40000 non-null  object \n",
      " 19  Day_delta           40000 non-null  float64\n",
      " 20  all_reviews_city    40000 non-null  float64\n",
      " 21  Repute_rest         40000 non-null  float64\n",
      " 22  City_Amsterdam      40000 non-null  uint8  \n",
      " 23  City_Athens         40000 non-null  uint8  \n",
      " 24  City_Barcelona      40000 non-null  uint8  \n",
      " 25  City_Berlin         40000 non-null  uint8  \n",
      " 26  City_Bratislava     40000 non-null  uint8  \n",
      " 27  City_Brussels       40000 non-null  uint8  \n",
      " 28  City_Budapest       40000 non-null  uint8  \n",
      " 29  City_Copenhagen     40000 non-null  uint8  \n",
      " 30  City_Dublin         40000 non-null  uint8  \n",
      " 31  City_Edinburgh      40000 non-null  uint8  \n",
      " 32  City_Geneva         40000 non-null  uint8  \n",
      " 33  City_Hamburg        40000 non-null  uint8  \n",
      " 34  City_Helsinki       40000 non-null  uint8  \n",
      " 35  City_Krakow         40000 non-null  uint8  \n",
      " 36  City_Lisbon         40000 non-null  uint8  \n",
      " 37  City_Ljubljana      40000 non-null  uint8  \n",
      " 38  City_London         40000 non-null  uint8  \n",
      " 39  City_Luxembourg     40000 non-null  uint8  \n",
      " 40  City_Lyon           40000 non-null  uint8  \n",
      " 41  City_Madrid         40000 non-null  uint8  \n",
      " 42  City_Milan          40000 non-null  uint8  \n",
      " 43  City_Munich         40000 non-null  uint8  \n",
      " 44  City_Oporto         40000 non-null  uint8  \n",
      " 45  City_Oslo           40000 non-null  uint8  \n",
      " 46  City_Paris          40000 non-null  uint8  \n",
      " 47  City_Prague         40000 non-null  uint8  \n",
      " 48  City_Rome           40000 non-null  uint8  \n",
      " 49  City_Stockholm      40000 non-null  uint8  \n",
      " 50  City_Vienna         40000 non-null  uint8  \n",
      " 51  City_Warsaw         40000 non-null  uint8  \n",
      " 52  City_Zurich         40000 non-null  uint8  \n",
      "dtypes: float64(7), int64(4), object(11), uint8(31)\n",
      "memory usage: 7.9+ MB\n"
     ]
    }
   ],
   "source": [
    "df_1.info()"
   ]
  },
  {
   "cell_type": "markdown",
   "id": "governing-bullet",
   "metadata": {},
   "source": [
    "удаляем ненужные столбцы"
   ]
  },
  {
   "cell_type": "code",
   "execution_count": 141,
   "id": "floppy-agent",
   "metadata": {},
   "outputs": [],
   "source": [
    "df_1 = df_1.drop(df_1.columns[[0,1,2,4,6,7,8,11,15,16,17,18]], axis=1)"
   ]
  },
  {
   "cell_type": "code",
   "execution_count": 143,
   "id": "entitled-organic",
   "metadata": {},
   "outputs": [],
   "source": [
    "# Разбиваем датафрейм на части, необходимые для обучения и тестирования модели\n",
    "# Х - данные с информацией о ресторанах, у - целевая переменная (рейтинги ресторанов)\n",
    "from sklearn.model_selection import train_test_split\n",
    "X = df_1.drop(['Rating'], axis=1)\n",
    "y = df_1['Rating']\n",
    "\n",
    "# Загружаем специальный инструмент для разбивки:\n",
    "\n",
    "# Наборы данных с меткой \"train\" будут использоваться для обучения модели, \"test\" - для тестирования.\n",
    "# Для тестирования мы будем использовать 25% от исходного датасета.\n",
    "X_train, X_test, y_train, y_test = train_test_split(X, y, test_size=0.25)"
   ]
  },
  {
   "cell_type": "code",
   "execution_count": 144,
   "id": "south-generic",
   "metadata": {},
   "outputs": [],
   "source": [
    "# Импортируем необходимые библиотеки:\n",
    "# инструмент для создания и обучения модели\n",
    "from sklearn.ensemble import RandomForestRegressor\n",
    "from sklearn import metrics  # инструменты для оценки точности модели\n",
    "\n",
    "# Создаём модель\n",
    "regr = RandomForestRegressor(n_estimators=100)\n",
    "\n",
    "# Обучаем модель на тестовом наборе данных\n",
    "regr.fit(X_train, y_train)\n",
    "\n",
    "# Используем обученную модель для предсказания рейтинга ресторанов в тестовой выборке.\n",
    "# Предсказанные значения записываем в переменную y_pred\n",
    "y_pred = regr.predict(X_test)"
   ]
  },
  {
   "cell_type": "code",
   "execution_count": 145,
   "id": "optical-wisdom",
   "metadata": {},
   "outputs": [
    {
     "name": "stdout",
     "output_type": "stream",
     "text": [
      "MAE: 0.2087835\n"
     ]
    }
   ],
   "source": [
    "# Сравниваем предсказанные значения (y_pred) с реальными (y_test), и смотрим насколько они в среднем отличаются\n",
    "# Метрика называется Mean Absolute Error (MAE) и показывает среднее отклонение предсказанных значений от фактических.\n",
    "print('MAE:', metrics.mean_absolute_error(y_test, y_pred))"
   ]
  },
  {
   "cell_type": "code",
   "execution_count": null,
   "id": "french-superintendent",
   "metadata": {},
   "outputs": [],
   "source": []
  }
 ],
 "metadata": {
  "kernelspec": {
   "display_name": "Python 3",
   "language": "python",
   "name": "python3"
  },
  "language_info": {
   "codemirror_mode": {
    "name": "ipython",
    "version": 3
   },
   "file_extension": ".py",
   "mimetype": "text/x-python",
   "name": "python",
   "nbconvert_exporter": "python",
   "pygments_lexer": "ipython3",
   "version": "3.8.5"
  }
 },
 "nbformat": 4,
 "nbformat_minor": 5
}
